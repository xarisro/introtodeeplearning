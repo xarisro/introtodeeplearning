{
  "nbformat": 4,
  "nbformat_minor": 0,
  "metadata": {
    "colab": {
      "name": "RL.ipynb",
      "provenance": [],
      "collapsed_sections": [
        "jrI6q7RmWQam"
      ]
    },
    "kernelspec": {
      "name": "python3",
      "display_name": "Python 3"
    },
    "accelerator": "GPU"
  },
  "cells": [
    {
      "cell_type": "markdown",
      "metadata": {
        "id": "jrI6q7RmWQam",
        "colab_type": "text"
      },
      "source": [
        "<table align=\"center\">\n",
        "  <td align=\"center\"><a target=\"_blank\" href=\"http://introtodeeplearning.com\">\n",
        "        <img src=\"http://introtodeeplearning.com/images/colab/mit.png\" style=\"padding-bottom:5px;\" />\n",
        "      Visit MIT Deep Learning</a></td>\n",
        "  <td align=\"center\"><a target=\"_blank\" href=\"https://colab.research.google.com/github/aamini/introtodeeplearning/blob/master/lab3/RL.ipynb\">\n",
        "        <img src=\"http://introtodeeplearning.com/images/colab/colab.png?v2.0\"  style=\"padding-bottom:5px;\" />Run in Google Colab</a></td>\n",
        "  <td align=\"center\"><a target=\"_blank\" href=\"https://github.com/aamini/introtodeeplearning/blob/master/lab3/RL.ipynb\">\n",
        "        <img src=\"http://introtodeeplearning.com/images/colab/github.png\"  height=\"70px\" style=\"padding-bottom:5px;\"  />View Source on GitHub</a></td>\n",
        "</table>\n",
        "\n",
        "# Copyright Information"
      ]
    },
    {
      "cell_type": "code",
      "metadata": {
        "id": "wkd375upWYok",
        "colab_type": "code",
        "colab": {}
      },
      "source": [
        "# Copyright 2020 MIT 6.S191 Introduction to Deep Learning. All Rights Reserved.\n",
        "# \n",
        "# Licensed under the MIT License. You may not use this file except in compliance\n",
        "# with the License. Use and/or modification of this code outside of 6.S191 must\n",
        "# reference:\n",
        "#\n",
        "# © MIT 6.S191: Introduction to Deep Learning\n",
        "# http://introtodeeplearning.com\n",
        "#"
      ],
      "execution_count": 0,
      "outputs": []
    },
    {
      "cell_type": "markdown",
      "metadata": {
        "id": "WoXYKhfZMHiw",
        "colab_type": "text"
      },
      "source": [
        "# Laboratory 3: Reinforcement Learning\n",
        "\n",
        "Reinforcement learning (RL) is a subset of machine learning which poses learning problems as interactions between agents and environments. It often assumes agents have no prior knowledge of a world, so they must learn to navigate environments by optimizing a reward function. Within an environment, an agent can take certain actions and receive feedback, in the form of positive or negative rewards, with respect to their decision. As such, an agent's feedback loop is somewhat akin to the idea of \"trial and error\", or the manner in which a child might learn to distinguish between \"good\" and \"bad\" actions.\n",
        "\n",
        "In practical terms, our RL agent will interact with the environment by taking an action at each timestep, receiving a corresponding reward, and updating its state according to what it has \"learned\".  \n",
        "\n",
        "![alt text](https://www.kdnuggets.com/images/reinforcement-learning-fig1-700.jpg)\n",
        "\n",
        "While the ultimate goal of reinforcement learning is to teach agents to act in the real, physical world, games provide a convenient proving ground for developing RL algorithms and agents. Games have some properties that make them particularly well suited for RL: \n",
        "\n",
        "1.   In many cases, games have perfectly describable environments. For example, all rules of chess can be formally written and programmed into a chess game simulator;\n",
        "2.   Games are massively parallelizable. Since they do not require running in the real world, simultaneous environments can be run on large data clusters; \n",
        "3.   Simpler scenarios in games enable fast prototyping. This speeds up the development of algorithms that could eventually run in the real-world; and\n",
        "4.   ... Games are fun! \n",
        "\n",
        "In previous labs, we have explored both supervised (with LSTMs, CNNs) and unsupervised / semi-supervised (with VAEs) learning tasks. Reinforcement learning is fundamentally different, in that we are training a deep learning algorithm to govern the actions of our RL agent, that is trying, within its environment, to find the optimal way to achieve a goal. The goal of training an RL agent is to determine the best next step to take to earn the greatest final payoff or return. In this lab, we focus on building a reinforcement learning algorithm to master two different environments with varying complexity. \n",
        "\n",
        "1.   **Cartpole**:   Balance a pole, protruding from a cart, in an upright position by only moving the base left or right. Environment with a low-dimensional observation space.\n",
        "2.   [**Pong**](https://en.wikipedia.org/wiki/Pong): Beat your competitors (whether other AI or humans!) at the game of Pong. Environment with a high-dimensional observation space -- learning directly from raw pixels.\n",
        "\n",
        "Let's get started! First we'll import TensorFlow, the course package, and some dependencies.\n"
      ]
    },
    {
      "cell_type": "code",
      "metadata": {
        "id": "EvdePP-VyVWp",
        "colab_type": "code",
        "colab": {
          "base_uri": "https://localhost:8080/",
          "height": 367
        },
        "outputId": "068b42fa-7b3c-452d-bd72-7a09f95e418b"
      },
      "source": [
        "!apt-get install -y xvfb python-opengl x11-utils > /dev/null 2>&1\n",
        "!pip install gym pyvirtualdisplay scikit-video > /dev/null 2>&1\n",
        "\n",
        "%tensorflow_version 2.x\n",
        "import tensorflow as tf\n",
        "\n",
        "import numpy as np\n",
        "import base64, io, time, gym\n",
        "import IPython, functools\n",
        "import matplotlib.pyplot as plt\n",
        "from tqdm import tqdm\n",
        "\n",
        "!pip install mitdeeplearning\n",
        "import mitdeeplearning as mdl"
      ],
      "execution_count": 1,
      "outputs": [
        {
          "output_type": "stream",
          "text": [
            "Collecting mitdeeplearning\n",
            "\u001b[?25l  Downloading https://files.pythonhosted.org/packages/8b/3b/b9174b68dc10832356d02a2d83a64b43a24f1762c172754407d22fc8f960/mitdeeplearning-0.1.2.tar.gz (2.1MB)\n",
            "\r\u001b[K     |▏                               | 10kB 20.5MB/s eta 0:00:01\r\u001b[K     |▎                               | 20kB 1.7MB/s eta 0:00:02\r\u001b[K     |▌                               | 30kB 2.3MB/s eta 0:00:01\r\u001b[K     |▋                               | 40kB 2.5MB/s eta 0:00:01\r\u001b[K     |▉                               | 51kB 2.0MB/s eta 0:00:02\r\u001b[K     |█                               | 61kB 2.3MB/s eta 0:00:01\r\u001b[K     |█                               | 71kB 2.5MB/s eta 0:00:01\r\u001b[K     |█▎                              | 81kB 2.7MB/s eta 0:00:01\r\u001b[K     |█▍                              | 92kB 2.9MB/s eta 0:00:01\r\u001b[K     |█▋                              | 102kB 2.8MB/s eta 0:00:01\r\u001b[K     |█▊                              | 112kB 2.8MB/s eta 0:00:01\r\u001b[K     |█▉                              | 122kB 2.8MB/s eta 0:00:01\r\u001b[K     |██                              | 133kB 2.8MB/s eta 0:00:01\r\u001b[K     |██▏                             | 143kB 2.8MB/s eta 0:00:01\r\u001b[K     |██▍                             | 153kB 2.8MB/s eta 0:00:01\r\u001b[K     |██▌                             | 163kB 2.8MB/s eta 0:00:01\r\u001b[K     |██▊                             | 174kB 2.8MB/s eta 0:00:01\r\u001b[K     |██▉                             | 184kB 2.8MB/s eta 0:00:01\r\u001b[K     |███                             | 194kB 2.8MB/s eta 0:00:01\r\u001b[K     |███▏                            | 204kB 2.8MB/s eta 0:00:01\r\u001b[K     |███▎                            | 215kB 2.8MB/s eta 0:00:01\r\u001b[K     |███▌                            | 225kB 2.8MB/s eta 0:00:01\r\u001b[K     |███▋                            | 235kB 2.8MB/s eta 0:00:01\r\u001b[K     |███▊                            | 245kB 2.8MB/s eta 0:00:01\r\u001b[K     |████                            | 256kB 2.8MB/s eta 0:00:01\r\u001b[K     |████                            | 266kB 2.8MB/s eta 0:00:01\r\u001b[K     |████▎                           | 276kB 2.8MB/s eta 0:00:01\r\u001b[K     |████▍                           | 286kB 2.8MB/s eta 0:00:01\r\u001b[K     |████▋                           | 296kB 2.8MB/s eta 0:00:01\r\u001b[K     |████▊                           | 307kB 2.8MB/s eta 0:00:01\r\u001b[K     |████▉                           | 317kB 2.8MB/s eta 0:00:01\r\u001b[K     |█████                           | 327kB 2.8MB/s eta 0:00:01\r\u001b[K     |█████▏                          | 337kB 2.8MB/s eta 0:00:01\r\u001b[K     |█████▍                          | 348kB 2.8MB/s eta 0:00:01\r\u001b[K     |█████▌                          | 358kB 2.8MB/s eta 0:00:01\r\u001b[K     |█████▋                          | 368kB 2.8MB/s eta 0:00:01\r\u001b[K     |█████▉                          | 378kB 2.8MB/s eta 0:00:01\r\u001b[K     |██████                          | 389kB 2.8MB/s eta 0:00:01\r\u001b[K     |██████▏                         | 399kB 2.8MB/s eta 0:00:01\r\u001b[K     |██████▎                         | 409kB 2.8MB/s eta 0:00:01\r\u001b[K     |██████▌                         | 419kB 2.8MB/s eta 0:00:01\r\u001b[K     |██████▋                         | 430kB 2.8MB/s eta 0:00:01\r\u001b[K     |██████▊                         | 440kB 2.8MB/s eta 0:00:01\r\u001b[K     |███████                         | 450kB 2.8MB/s eta 0:00:01\r\u001b[K     |███████                         | 460kB 2.8MB/s eta 0:00:01\r\u001b[K     |███████▎                        | 471kB 2.8MB/s eta 0:00:01\r\u001b[K     |███████▍                        | 481kB 2.8MB/s eta 0:00:01\r\u001b[K     |███████▌                        | 491kB 2.8MB/s eta 0:00:01\r\u001b[K     |███████▊                        | 501kB 2.8MB/s eta 0:00:01\r\u001b[K     |███████▉                        | 512kB 2.8MB/s eta 0:00:01\r\u001b[K     |████████                        | 522kB 2.8MB/s eta 0:00:01\r\u001b[K     |████████▏                       | 532kB 2.8MB/s eta 0:00:01\r\u001b[K     |████████▍                       | 542kB 2.8MB/s eta 0:00:01\r\u001b[K     |████████▌                       | 552kB 2.8MB/s eta 0:00:01\r\u001b[K     |████████▋                       | 563kB 2.8MB/s eta 0:00:01\r\u001b[K     |████████▉                       | 573kB 2.8MB/s eta 0:00:01\r\u001b[K     |█████████                       | 583kB 2.8MB/s eta 0:00:01\r\u001b[K     |█████████▏                      | 593kB 2.8MB/s eta 0:00:01\r\u001b[K     |█████████▎                      | 604kB 2.8MB/s eta 0:00:01\r\u001b[K     |█████████▍                      | 614kB 2.8MB/s eta 0:00:01\r\u001b[K     |█████████▋                      | 624kB 2.8MB/s eta 0:00:01\r\u001b[K     |█████████▊                      | 634kB 2.8MB/s eta 0:00:01\r\u001b[K     |██████████                      | 645kB 2.8MB/s eta 0:00:01\r\u001b[K     |██████████                      | 655kB 2.8MB/s eta 0:00:01\r\u001b[K     |██████████▎                     | 665kB 2.8MB/s eta 0:00:01\r\u001b[K     |██████████▍                     | 675kB 2.8MB/s eta 0:00:01\r\u001b[K     |██████████▌                     | 686kB 2.8MB/s eta 0:00:01\r\u001b[K     |██████████▊                     | 696kB 2.8MB/s eta 0:00:01\r\u001b[K     |██████████▉                     | 706kB 2.8MB/s eta 0:00:01\r\u001b[K     |███████████                     | 716kB 2.8MB/s eta 0:00:01\r\u001b[K     |███████████▏                    | 727kB 2.8MB/s eta 0:00:01\r\u001b[K     |███████████▎                    | 737kB 2.8MB/s eta 0:00:01\r\u001b[K     |███████████▌                    | 747kB 2.8MB/s eta 0:00:01\r\u001b[K     |███████████▋                    | 757kB 2.8MB/s eta 0:00:01\r\u001b[K     |███████████▉                    | 768kB 2.8MB/s eta 0:00:01\r\u001b[K     |████████████                    | 778kB 2.8MB/s eta 0:00:01\r\u001b[K     |████████████                    | 788kB 2.8MB/s eta 0:00:01\r\u001b[K     |████████████▎                   | 798kB 2.8MB/s eta 0:00:01\r\u001b[K     |████████████▍                   | 808kB 2.8MB/s eta 0:00:01\r\u001b[K     |████████████▋                   | 819kB 2.8MB/s eta 0:00:01\r\u001b[K     |████████████▊                   | 829kB 2.8MB/s eta 0:00:01\r\u001b[K     |█████████████                   | 839kB 2.8MB/s eta 0:00:01\r\u001b[K     |█████████████                   | 849kB 2.8MB/s eta 0:00:01\r\u001b[K     |█████████████▏                  | 860kB 2.8MB/s eta 0:00:01\r\u001b[K     |█████████████▍                  | 870kB 2.8MB/s eta 0:00:01\r\u001b[K     |█████████████▌                  | 880kB 2.8MB/s eta 0:00:01\r\u001b[K     |█████████████▊                  | 890kB 2.8MB/s eta 0:00:01\r\u001b[K     |█████████████▉                  | 901kB 2.8MB/s eta 0:00:01\r\u001b[K     |██████████████                  | 911kB 2.8MB/s eta 0:00:01\r\u001b[K     |██████████████▏                 | 921kB 2.8MB/s eta 0:00:01\r\u001b[K     |██████████████▎                 | 931kB 2.8MB/s eta 0:00:01\r\u001b[K     |██████████████▌                 | 942kB 2.8MB/s eta 0:00:01\r\u001b[K     |██████████████▋                 | 952kB 2.8MB/s eta 0:00:01\r\u001b[K     |██████████████▉                 | 962kB 2.8MB/s eta 0:00:01\r\u001b[K     |███████████████                 | 972kB 2.8MB/s eta 0:00:01\r\u001b[K     |███████████████                 | 983kB 2.8MB/s eta 0:00:01\r\u001b[K     |███████████████▎                | 993kB 2.8MB/s eta 0:00:01\r\u001b[K     |███████████████▍                | 1.0MB 2.8MB/s eta 0:00:01\r\u001b[K     |███████████████▋                | 1.0MB 2.8MB/s eta 0:00:01\r\u001b[K     |███████████████▊                | 1.0MB 2.8MB/s eta 0:00:01\r\u001b[K     |███████████████▉                | 1.0MB 2.8MB/s eta 0:00:01\r\u001b[K     |████████████████                | 1.0MB 2.8MB/s eta 0:00:01\r\u001b[K     |████████████████▏               | 1.1MB 2.8MB/s eta 0:00:01\r\u001b[K     |████████████████▍               | 1.1MB 2.8MB/s eta 0:00:01\r\u001b[K     |████████████████▌               | 1.1MB 2.8MB/s eta 0:00:01\r\u001b[K     |████████████████▊               | 1.1MB 2.8MB/s eta 0:00:01\r\u001b[K     |████████████████▉               | 1.1MB 2.8MB/s eta 0:00:01\r\u001b[K     |█████████████████               | 1.1MB 2.8MB/s eta 0:00:01\r\u001b[K     |█████████████████▏              | 1.1MB 2.8MB/s eta 0:00:01\r\u001b[K     |█████████████████▎              | 1.1MB 2.8MB/s eta 0:00:01\r\u001b[K     |█████████████████▌              | 1.1MB 2.8MB/s eta 0:00:01\r\u001b[K     |█████████████████▋              | 1.1MB 2.8MB/s eta 0:00:01\r\u001b[K     |█████████████████▊              | 1.2MB 2.8MB/s eta 0:00:01\r\u001b[K     |██████████████████              | 1.2MB 2.8MB/s eta 0:00:01\r\u001b[K     |██████████████████              | 1.2MB 2.8MB/s eta 0:00:01\r\u001b[K     |██████████████████▎             | 1.2MB 2.8MB/s eta 0:00:01\r\u001b[K     |██████████████████▍             | 1.2MB 2.8MB/s eta 0:00:01\r\u001b[K     |██████████████████▋             | 1.2MB 2.8MB/s eta 0:00:01\r\u001b[K     |██████████████████▊             | 1.2MB 2.8MB/s eta 0:00:01\r\u001b[K     |██████████████████▉             | 1.2MB 2.8MB/s eta 0:00:01\r\u001b[K     |███████████████████             | 1.2MB 2.8MB/s eta 0:00:01\r\u001b[K     |███████████████████▏            | 1.2MB 2.8MB/s eta 0:00:01\r\u001b[K     |███████████████████▍            | 1.3MB 2.8MB/s eta 0:00:01\r\u001b[K     |███████████████████▌            | 1.3MB 2.8MB/s eta 0:00:01\r\u001b[K     |███████████████████▋            | 1.3MB 2.8MB/s eta 0:00:01\r\u001b[K     |███████████████████▉            | 1.3MB 2.8MB/s eta 0:00:01\r\u001b[K     |████████████████████            | 1.3MB 2.8MB/s eta 0:00:01\r\u001b[K     |████████████████████▏           | 1.3MB 2.8MB/s eta 0:00:01\r\u001b[K     |████████████████████▎           | 1.3MB 2.8MB/s eta 0:00:01\r\u001b[K     |████████████████████▌           | 1.3MB 2.8MB/s eta 0:00:01\r\u001b[K     |████████████████████▋           | 1.3MB 2.8MB/s eta 0:00:01\r\u001b[K     |████████████████████▊           | 1.4MB 2.8MB/s eta 0:00:01\r\u001b[K     |█████████████████████           | 1.4MB 2.8MB/s eta 0:00:01\r\u001b[K     |█████████████████████           | 1.4MB 2.8MB/s eta 0:00:01\r\u001b[K     |█████████████████████▎          | 1.4MB 2.8MB/s eta 0:00:01\r\u001b[K     |█████████████████████▍          | 1.4MB 2.8MB/s eta 0:00:01\r\u001b[K     |█████████████████████▌          | 1.4MB 2.8MB/s eta 0:00:01\r\u001b[K     |█████████████████████▊          | 1.4MB 2.8MB/s eta 0:00:01\r\u001b[K     |█████████████████████▉          | 1.4MB 2.8MB/s eta 0:00:01\r\u001b[K     |██████████████████████          | 1.4MB 2.8MB/s eta 0:00:01\r\u001b[K     |██████████████████████▏         | 1.4MB 2.8MB/s eta 0:00:01\r\u001b[K     |██████████████████████▍         | 1.5MB 2.8MB/s eta 0:00:01\r\u001b[K     |██████████████████████▌         | 1.5MB 2.8MB/s eta 0:00:01\r\u001b[K     |██████████████████████▋         | 1.5MB 2.8MB/s eta 0:00:01\r\u001b[K     |██████████████████████▉         | 1.5MB 2.8MB/s eta 0:00:01\r\u001b[K     |███████████████████████         | 1.5MB 2.8MB/s eta 0:00:01\r\u001b[K     |███████████████████████▏        | 1.5MB 2.8MB/s eta 0:00:01\r\u001b[K     |███████████████████████▎        | 1.5MB 2.8MB/s eta 0:00:01\r\u001b[K     |███████████████████████▍        | 1.5MB 2.8MB/s eta 0:00:01\r\u001b[K     |███████████████████████▋        | 1.5MB 2.8MB/s eta 0:00:01\r\u001b[K     |███████████████████████▊        | 1.5MB 2.8MB/s eta 0:00:01\r\u001b[K     |████████████████████████        | 1.6MB 2.8MB/s eta 0:00:01\r\u001b[K     |████████████████████████        | 1.6MB 2.8MB/s eta 0:00:01\r\u001b[K     |████████████████████████▏       | 1.6MB 2.8MB/s eta 0:00:01\r\u001b[K     |████████████████████████▍       | 1.6MB 2.8MB/s eta 0:00:01\r\u001b[K     |████████████████████████▌       | 1.6MB 2.8MB/s eta 0:00:01\r\u001b[K     |████████████████████████▊       | 1.6MB 2.8MB/s eta 0:00:01\r\u001b[K     |████████████████████████▉       | 1.6MB 2.8MB/s eta 0:00:01\r\u001b[K     |█████████████████████████       | 1.6MB 2.8MB/s eta 0:00:01\r\u001b[K     |█████████████████████████▏      | 1.6MB 2.8MB/s eta 0:00:01\r\u001b[K     |█████████████████████████▎      | 1.6MB 2.8MB/s eta 0:00:01\r\u001b[K     |█████████████████████████▌      | 1.7MB 2.8MB/s eta 0:00:01\r\u001b[K     |█████████████████████████▋      | 1.7MB 2.8MB/s eta 0:00:01\r\u001b[K     |█████████████████████████▉      | 1.7MB 2.8MB/s eta 0:00:01\r\u001b[K     |██████████████████████████      | 1.7MB 2.8MB/s eta 0:00:01\r\u001b[K     |██████████████████████████      | 1.7MB 2.8MB/s eta 0:00:01\r\u001b[K     |██████████████████████████▎     | 1.7MB 2.8MB/s eta 0:00:01\r\u001b[K     |██████████████████████████▍     | 1.7MB 2.8MB/s eta 0:00:01\r\u001b[K     |██████████████████████████▋     | 1.7MB 2.8MB/s eta 0:00:01\r\u001b[K     |██████████████████████████▊     | 1.7MB 2.8MB/s eta 0:00:01\r\u001b[K     |███████████████████████████     | 1.8MB 2.8MB/s eta 0:00:01\r\u001b[K     |███████████████████████████     | 1.8MB 2.8MB/s eta 0:00:01\r\u001b[K     |███████████████████████████▏    | 1.8MB 2.8MB/s eta 0:00:01\r\u001b[K     |███████████████████████████▍    | 1.8MB 2.8MB/s eta 0:00:01\r\u001b[K     |███████████████████████████▌    | 1.8MB 2.8MB/s eta 0:00:01\r\u001b[K     |███████████████████████████▊    | 1.8MB 2.8MB/s eta 0:00:01\r\u001b[K     |███████████████████████████▉    | 1.8MB 2.8MB/s eta 0:00:01\r\u001b[K     |████████████████████████████    | 1.8MB 2.8MB/s eta 0:00:01\r\u001b[K     |████████████████████████████▏   | 1.8MB 2.8MB/s eta 0:00:01\r\u001b[K     |████████████████████████████▎   | 1.8MB 2.8MB/s eta 0:00:01\r\u001b[K     |████████████████████████████▌   | 1.9MB 2.8MB/s eta 0:00:01\r\u001b[K     |████████████████████████████▋   | 1.9MB 2.8MB/s eta 0:00:01\r\u001b[K     |████████████████████████████▉   | 1.9MB 2.8MB/s eta 0:00:01\r\u001b[K     |█████████████████████████████   | 1.9MB 2.8MB/s eta 0:00:01\r\u001b[K     |█████████████████████████████   | 1.9MB 2.8MB/s eta 0:00:01\r\u001b[K     |█████████████████████████████▎  | 1.9MB 2.8MB/s eta 0:00:01\r\u001b[K     |█████████████████████████████▍  | 1.9MB 2.8MB/s eta 0:00:01\r\u001b[K     |█████████████████████████████▋  | 1.9MB 2.8MB/s eta 0:00:01\r\u001b[K     |█████████████████████████████▊  | 1.9MB 2.8MB/s eta 0:00:01\r\u001b[K     |█████████████████████████████▉  | 1.9MB 2.8MB/s eta 0:00:01\r\u001b[K     |██████████████████████████████  | 2.0MB 2.8MB/s eta 0:00:01\r\u001b[K     |██████████████████████████████▏ | 2.0MB 2.8MB/s eta 0:00:01\r\u001b[K     |██████████████████████████████▍ | 2.0MB 2.8MB/s eta 0:00:01\r\u001b[K     |██████████████████████████████▌ | 2.0MB 2.8MB/s eta 0:00:01\r\u001b[K     |██████████████████████████████▊ | 2.0MB 2.8MB/s eta 0:00:01\r\u001b[K     |██████████████████████████████▉ | 2.0MB 2.8MB/s eta 0:00:01\r\u001b[K     |███████████████████████████████ | 2.0MB 2.8MB/s eta 0:00:01\r\u001b[K     |███████████████████████████████▏| 2.0MB 2.8MB/s eta 0:00:01\r\u001b[K     |███████████████████████████████▎| 2.0MB 2.8MB/s eta 0:00:01\r\u001b[K     |███████████████████████████████▌| 2.0MB 2.8MB/s eta 0:00:01\r\u001b[K     |███████████████████████████████▋| 2.1MB 2.8MB/s eta 0:00:01\r\u001b[K     |███████████████████████████████▊| 2.1MB 2.8MB/s eta 0:00:01\r\u001b[K     |████████████████████████████████| 2.1MB 2.8MB/s eta 0:00:01\r\u001b[K     |████████████████████████████████| 2.1MB 2.8MB/s \n",
            "\u001b[?25hRequirement already satisfied: numpy in /usr/local/lib/python3.6/dist-packages (from mitdeeplearning) (1.18.3)\n",
            "Requirement already satisfied: regex in /usr/local/lib/python3.6/dist-packages (from mitdeeplearning) (2019.12.20)\n",
            "Requirement already satisfied: tqdm in /usr/local/lib/python3.6/dist-packages (from mitdeeplearning) (4.38.0)\n",
            "Requirement already satisfied: gym in /usr/local/lib/python3.6/dist-packages (from mitdeeplearning) (0.17.1)\n",
            "Requirement already satisfied: six in /usr/local/lib/python3.6/dist-packages (from gym->mitdeeplearning) (1.12.0)\n",
            "Requirement already satisfied: pyglet<=1.5.0,>=1.4.0 in /usr/local/lib/python3.6/dist-packages (from gym->mitdeeplearning) (1.5.0)\n",
            "Requirement already satisfied: cloudpickle<1.4.0,>=1.2.0 in /usr/local/lib/python3.6/dist-packages (from gym->mitdeeplearning) (1.3.0)\n",
            "Requirement already satisfied: scipy in /usr/local/lib/python3.6/dist-packages (from gym->mitdeeplearning) (1.4.1)\n",
            "Requirement already satisfied: future in /usr/local/lib/python3.6/dist-packages (from pyglet<=1.5.0,>=1.4.0->gym->mitdeeplearning) (0.16.0)\n",
            "Building wheels for collected packages: mitdeeplearning\n",
            "  Building wheel for mitdeeplearning (setup.py) ... \u001b[?25l\u001b[?25hdone\n",
            "  Created wheel for mitdeeplearning: filename=mitdeeplearning-0.1.2-cp36-none-any.whl size=2114586 sha256=7505c52db324b6d9d70aa9c40b8b57bb1afe208debc0b03cd2df4b63166d5c4e\n",
            "  Stored in directory: /root/.cache/pip/wheels/27/e1/73/5f01c787621d8a3c857f59876c79e304b9b64db9ff5bd61b74\n",
            "Successfully built mitdeeplearning\n",
            "Installing collected packages: mitdeeplearning\n",
            "Successfully installed mitdeeplearning-0.1.2\n"
          ],
          "name": "stdout"
        }
      ]
    },
    {
      "cell_type": "markdown",
      "metadata": {
        "id": "zmrHSiXKTXTY",
        "colab_type": "text"
      },
      "source": [
        "Before we dive in, let's take a step back and outline our approach, which is generally applicable to reinforcement learning problems in general:\n",
        "\n",
        "1. **Initialize our environment and our agent**: here we will describe the different observations and actions the agent can make in the environemnt.\n",
        "2. **Define our agent's memory**: this will enable the agent to remember its past actions, observations, and rewards.\n",
        "3. **Define a reward function**: describes the reward associated with an action or sequence of actions.\n",
        "4. **Define the learning algorithm**: this will be used to reinforce the agent's good behaviors and discourage bad behaviors.\n"
      ]
    },
    {
      "cell_type": "markdown",
      "metadata": {
        "id": "UT7YL8KBJIIc",
        "colab_type": "text"
      },
      "source": [
        "# Part 1: Cartpole\n",
        "\n",
        "## 3.1 Define the Cartpole environment and agent\n",
        "\n",
        "### Environment \n",
        "\n",
        "In order to model the environment for both the Cartpole and Pong tasks, we'll be using a toolkit developed by OpenAI called [OpenAI Gym](https://gym.openai.com/). It provides several pre-defined environments for training and testing reinforcement learning agents, including those for classic physics control tasks, Atari video games, and robotic simulations. To access the Cartpole environment, we can use `env = gym.make(\"CartPole-v0\")`, which we gained access to when we imported the `gym` package. We can instantiate different [environments](https://gym.openai.com/envs/#classic_control) by passing the enivronment name to the `make` function.\n",
        "\n",
        "One issue we might experience when developing RL algorithms is that many aspects of the learning process are inherently random: initializing game states, changes in the environment, and the agent's actions. As such, it can be helpful to set a initial \"seed\" for the environment to ensure some level of reproducibility. Much like you might use `numpy.random.seed`, we can call the comparable function in gym, `seed`, with our defined environment to ensure the environment's random variables are initialized the same each time."
      ]
    },
    {
      "cell_type": "code",
      "metadata": {
        "id": "quv9SC0iIYFm",
        "colab_type": "code",
        "colab": {
          "base_uri": "https://localhost:8080/",
          "height": 34
        },
        "outputId": "673a8d70-e12b-48f3-8da9-6d60c2cc84af"
      },
      "source": [
        "### Instantiate the Cartpole environment ###\n",
        "\n",
        "env = gym.make(\"CartPole-v0\")\n",
        "env.seed(1)"
      ],
      "execution_count": 2,
      "outputs": [
        {
          "output_type": "execute_result",
          "data": {
            "text/plain": [
              "[1]"
            ]
          },
          "metadata": {
            "tags": []
          },
          "execution_count": 2
        }
      ]
    },
    {
      "cell_type": "markdown",
      "metadata": {
        "id": "mhEITUcKK455",
        "colab_type": "text"
      },
      "source": [
        "In Cartpole, a pole is attached by an un-actuated joint to a cart, which moves along a frictionless track. The pole starts upright, and the goal is to prevent it from falling over. The system is controlled by applying a force of +1 or -1 to the cart. A reward of +1 is provided for every timestep that the pole remains upright. The episode ends when the pole is more than 15 degrees from vertical, or the cart moves more than 2.4 units from the center of the track. A visual summary of the cartpole environment is depicted below:\n",
        "\n",
        "<img width=\"400px\" src=\"https://danielpiedrahita.files.wordpress.com/2017/02/cart-pole.png\"></img>\n",
        "\n",
        "Given this setup for the environment and the objective of the game, we can think about: 1) what observations help define the environment's state; 2) what actions the agent can take. \n",
        "\n",
        "First, let's consider the observation space. In this Cartpole environment our observations are:\n",
        "\n",
        "1. Cart position\n",
        "2. Cart velocity\n",
        "3. Pole angle\n",
        "4. Pole rotation rate\n",
        "\n",
        "We can confirm the size of the space by querying the environment's observation space:\n"
      ]
    },
    {
      "cell_type": "code",
      "metadata": {
        "id": "UVJaEcbdIX82",
        "colab_type": "code",
        "colab": {
          "base_uri": "https://localhost:8080/",
          "height": 34
        },
        "outputId": "bd7f9b8f-4872-4c58-ff52-0debd49481c3"
      },
      "source": [
        "n_observations = env.observation_space\n",
        "print(\"Environment has observation space =\", n_observations)"
      ],
      "execution_count": 4,
      "outputs": [
        {
          "output_type": "stream",
          "text": [
            "Environment has observation space = Box(4,)\n"
          ],
          "name": "stdout"
        }
      ]
    },
    {
      "cell_type": "markdown",
      "metadata": {
        "id": "ZibGgjrALgPM",
        "colab_type": "text"
      },
      "source": [
        "Second, we consider the action space. At every time step, the agent can move either right or left. Again we can confirm the size of the action space by querying the environment:"
      ]
    },
    {
      "cell_type": "code",
      "metadata": {
        "id": "qc9SIPxBIXrm",
        "colab_type": "code",
        "colab": {
          "base_uri": "https://localhost:8080/",
          "height": 34
        },
        "outputId": "dfb1dc8a-a69f-42dc-cf38-ec61d137370e"
      },
      "source": [
        "n_actions = env.action_space.n\n",
        "print(\"Number of possible actions that the agent can choose from =\", n_actions)"
      ],
      "execution_count": 5,
      "outputs": [
        {
          "output_type": "stream",
          "text": [
            "Number of possible actions that the agent can choose from = 2\n"
          ],
          "name": "stdout"
        }
      ]
    },
    {
      "cell_type": "markdown",
      "metadata": {
        "id": "pPfHME8aRKkb",
        "colab_type": "text"
      },
      "source": [
        "### Cartpole agent\n",
        "\n",
        "Now that we have instantiated the environment and understood the dimensionality of the observation and action spaces, we are ready to define our agent. In deep reinforcement learning, a deep neural network defines the agent. This network will take as input an observation of the environment and output the probability of taking each of the possible actions. Since Cartpole is defined by a low-dimensional observation space, a simple feed-forward neural network should work well for our agent. We will define this using the `Sequential` API.\n"
      ]
    },
    {
      "cell_type": "code",
      "metadata": {
        "id": "W-o_XK4oQ4eu",
        "colab_type": "code",
        "colab": {}
      },
      "source": [
        "### Define the Cartpole agent ###\n",
        "\n",
        "# Defines a feed-forward neural network\n",
        "def create_cartpole_model():\n",
        "  model = tf.keras.models.Sequential([\n",
        "      # First Dense layer\n",
        "      tf.keras.layers.Dense(units=32, activation='relu'),\n",
        "\n",
        "      # TODO: Define the last Dense layer, which will provide the network's output.\n",
        "      # Think about the space the agent needs to act in!\n",
        "      tf.keras.layers.Dense(units=n_actions, activation=None)\n",
        "  ])\n",
        "  return model\n",
        "\n",
        "cartpole_model = create_cartpole_model()"
      ],
      "execution_count": 0,
      "outputs": []
    },
    {
      "cell_type": "markdown",
      "metadata": {
        "id": "d5D5NSIYS2IW",
        "colab_type": "text"
      },
      "source": [
        "Now that we have defined the core network architecture, we will define an *action function* that executes a forward pass through the network, given a set of observations, and samples from the output. This sampling from the output probabilities will be used to select the next action for the agent. \n",
        "\n",
        "**Critically, this action function is totally general -- we will use this function for both Cartpole and Pong, and it is applicable to other RL tasks, as well!**"
      ]
    },
    {
      "cell_type": "code",
      "metadata": {
        "id": "E_vVZRr8Q4R_",
        "colab_type": "code",
        "colab": {}
      },
      "source": [
        "### Define the agent's action function ###\n",
        "\n",
        "# Function that takes observations as input, executes a forward pass through model, \n",
        "#   and outputs a sampled action.\n",
        "# Arguments:\n",
        "#   model: the network that defines our agent\n",
        "#   observation: observation which is fed as input to the model\n",
        "# Returns:\n",
        "#   action: choice of agent action\n",
        "def choose_action(model, observation):\n",
        "  # add batch dimension to the observation\n",
        "  observation = np.expand_dims(observation, axis=0)\n",
        "\n",
        "  '''TODO: feed the observations through the model to predict the log probabilities of each possible action.'''\n",
        "  logits = model.predict(observation)\n",
        "  \n",
        "  # pass the log probabilities through a softmax to compute true probabilities\n",
        "  prob_weights = tf.nn.softmax(logits).numpy()\n",
        "  \n",
        "  '''TODO: randomly sample from the prob_weights to pick an action.\n",
        "  Hint: carefully consider the dimensionality of the input probabilities (vector) and the output action (scalar)'''\n",
        "  action = np.random.choice(n_actions, size=1, p=prob_weights.flatten())[0]\n",
        "\n",
        "  return action"
      ],
      "execution_count": 0,
      "outputs": []
    },
    {
      "cell_type": "markdown",
      "metadata": {
        "id": "_tR9uAWcTnkr",
        "colab_type": "text"
      },
      "source": [
        "## 3.2 Define the agent's memory\n",
        "\n",
        "Now that we have instantiated the environment and defined the agent network architecture and action function, we are ready to move on to the next step in our RL workflow:\n",
        "1. **Initialize our environment and our agent**: here we will describe the different observations and actions the agent can make in the environemnt.\n",
        "2. **Define our agent's memory**: this will enable the agent to remember its past actions, observations, and rewards.\n",
        "3. **Define the learning algorithm**: this will be used to reinforce the agent's good behaviors and discourage bad behaviors.\n",
        "\n",
        "In reinforcement learning, training occurs alongside the agent's acting in the environment; an *episode* refers to a sequence of actions that ends in some terminal state, such as the pole falling down or the cart crashing. The agent will need to remember all of its observations and actions, such that once an episode ends, it can learn to \"reinforce\" the good actions and punish the undesirable actions via training. Our first step is to define a simple memory buffer that contains the agent's observations, actions, and received rewards from a given episode. \n",
        "\n",
        "**Once again, note the modularity of this memory buffer -- it can and will be applied to other RL tasks as well!**"
      ]
    },
    {
      "cell_type": "code",
      "metadata": {
        "id": "8MM6JwXVQ4JG",
        "colab_type": "code",
        "colab": {}
      },
      "source": [
        "### Agent Memory ###\n",
        "\n",
        "class Memory:\n",
        "  def __init__(self): \n",
        "      self.clear()\n",
        "\n",
        "  # Resets/restarts the memory buffer\n",
        "  def clear(self): \n",
        "      self.observations = []\n",
        "      self.actions = []\n",
        "      self.rewards = []\n",
        "\n",
        "  # Add observations, actions, rewards to memory\n",
        "  def add_to_memory(self, new_observation, new_action, new_reward): \n",
        "      self.observations.append(new_observation)\n",
        "      '''TODO: update the list of actions with new action'''\n",
        "      # TODO: your update code here\n",
        "      self.actions.append(new_action)\n",
        "      '''TODO: update the list of rewards with new reward'''\n",
        "      # TODO: your update code here\n",
        "      self.rewards.append(new_reward)\n",
        "        \n",
        "memory = Memory()"
      ],
      "execution_count": 0,
      "outputs": []
    },
    {
      "cell_type": "markdown",
      "metadata": {
        "id": "D4YhtPaUVj5m",
        "colab_type": "text"
      },
      "source": [
        "## 3.3 Reward function\n",
        "\n",
        "We're almost ready to begin the learning algorithm for our agent! The next step is to compute the rewards of our agent as it acts in the environment. Since we (and the agent) is uncertain about if and when the game or task will end (i.e., when the pole will fall), it is useful to emphasize getting rewards **now** rather than later in the future -- this is the idea of discounting. This is a similar concept to discounting money in the case of interest. ecall from lecture, we use reward discount to give more preference at getting rewards now rather than later in the future. The idea of discounting rewards is similar to discounting money in the case of interest.\n",
        "\n",
        "To compute the expected cumulative reward, known as the **return**, at a given timestep in a learning episode, we sum the discounted rewards expected at that time step $t$, within a learning episode, and projecting into the future. We define the return (cumulative reward) at a time step $t$, $R_{t}$ as:\n",
        "\n",
        ">$R_{t}=\\sum_{k=0}^\\infty\\gamma^kr_{t+k}$\n",
        "\n",
        "where  $0 < \\gamma < 1$ is the discount factor and $r_{t}$ is the reward at time step $t$, and the index $k$ increments projection into the future within a single learning episode. Intuitively, you can think of this function as depreciating any rewards received at later time steps, which will force the agent prioritize getting rewards now. Since we can't extend episodes to infinity, in practice the computation will be limited to the number of timesteps in an episode -- after that the reward is assumed to be zero.\n",
        "\n",
        "Take note of the form of this sum -- we'll have to be clever about how we implement this function. Specifically, we'll need to initialize an array of zeros, with length of the number of time steps, and fill it with the real discounted reward values as we loop through the rewards from the episode, which will have been saved in the agents memory. What we ultimately care about is which actions are better relative to other actions taken in that episode -- so, we'll normalize our computed rewards, using the mean and standard deviation of the rewards across the learning episode.\n"
      ]
    },
    {
      "cell_type": "code",
      "metadata": {
        "id": "5_Q2OFYtQ32X",
        "colab_type": "code",
        "colab": {}
      },
      "source": [
        "### Reward function ###\n",
        "\n",
        "# Helper function that normalizes an np.array x\n",
        "def normalize(x):\n",
        "  x -= np.mean(x)\n",
        "  x /= np.std(x)\n",
        "  return x.astype(np.float32)\n",
        "\n",
        "# Compute normalized, discounted, cumulative rewards (i.e., return)\n",
        "# Arguments:\n",
        "#   rewards: reward at timesteps in episode\n",
        "#   gamma: discounting factor\n",
        "# Returns:\n",
        "#   normalized discounted reward\n",
        "def discount_rewards(rewards, gamma=0.95): \n",
        "  discounted_rewards = np.zeros_like(rewards)\n",
        "  R = 0\n",
        "  for t in reversed(range(0, len(rewards))):\n",
        "      # update the total discounted reward\n",
        "      R = R * gamma + rewards[t]\n",
        "      discounted_rewards[t] = R\n",
        "      \n",
        "  return normalize(discounted_rewards)"
      ],
      "execution_count": 0,
      "outputs": []
    },
    {
      "cell_type": "markdown",
      "metadata": {
        "id": "QzbY-mjGYcmt",
        "colab_type": "text"
      },
      "source": [
        "## 3.4 Learning algorithm\n",
        "\n",
        "Now we can start to define the learing algorithm which will be used to reinforce good behaviors of the agent and discourage bad behaviours. In this lab, we will focus on *policy gradient* methods which aim to **maximize** the likelihood of actions that result in large rewards. Equivalently, this means that we want to **minimize** the negative likelihood of these same actions. We achieve this by simply **scaling** the probabilities by their associated rewards -- effectively amplifying the likelihood of actions that result in large rewards.\n",
        "\n",
        "Since the log function is monotonically increasing, this means that minimizing **negative likelihood** is equivalent to minimizing **negative log-likelihood**.  Recall that we can easily compute the negative log-likelihood of a discrete action by evaluting its [softmax cross entropy](https://www.tensorflow.org/api_docs/python/tf/nn/sparse_softmax_cross_entropy_with_logits). Like in supervised learning, we can use stochastic gradient descent methods to achieve the desired minimization. \n",
        "\n",
        "Let's begin by defining the loss function."
      ]
    },
    {
      "cell_type": "code",
      "metadata": {
        "id": "fsgZ3IDCY_Zn",
        "colab_type": "code",
        "colab": {}
      },
      "source": [
        "### Loss function ###\n",
        "\n",
        "# Arguments:\n",
        "#   logits: network's predictions for actions to take\n",
        "#   actions: the actions the agent took in an episode\n",
        "#   rewards: the rewards the agent received in an episode\n",
        "# Returns:\n",
        "#   loss\n",
        "def compute_loss(logits, actions, rewards): \n",
        "  '''TODO: complete the function call to compute the negative log probabilities'''\n",
        "  neg_logprob = tf.nn.sparse_softmax_cross_entropy_with_logits(logits=logits, labels=actions)\n",
        "  \n",
        "  '''TODO: scale the negative log probability by the rewards'''\n",
        "  loss = tf.reduce_mean(neg_logprob * rewards)\n",
        "  return loss"
      ],
      "execution_count": 0,
      "outputs": []
    },
    {
      "cell_type": "markdown",
      "metadata": {
        "id": "Rr5vQ9fqbPpp",
        "colab_type": "text"
      },
      "source": [
        "Now let's use the loss function to define a training step of our learning algorithm:"
      ]
    },
    {
      "cell_type": "code",
      "metadata": {
        "id": "_50ada7nbZ7L",
        "colab_type": "code",
        "colab": {}
      },
      "source": [
        "### Training step (forward and backpropagation) ###\n",
        "\n",
        "def train_step(model, optimizer, observations, actions, discounted_rewards):\n",
        "  with tf.GradientTape() as tape:\n",
        "      # Forward propagate through the agent network\n",
        "      logits = model(observations)\n",
        "\n",
        "      '''TODO: call the compute_loss function to compute the loss'''\n",
        "      loss = compute_loss(logits, actions, discounted_rewards)\n",
        "\n",
        "  '''TODO: run backpropagation to minimize the loss using the tape.gradient method.\n",
        "      Use `model.trainable_variables`'''\n",
        "  grads = tape.gradient(loss, model.trainable_variables)\n",
        "  optimizer.apply_gradients(zip(grads, model.trainable_variables))\n"
      ],
      "execution_count": 0,
      "outputs": []
    },
    {
      "cell_type": "markdown",
      "metadata": {
        "id": "XsjKXh6BcgjR",
        "colab_type": "text"
      },
      "source": [
        "## 3.5 Run cartpole!\n",
        "\n",
        "Having had no prior knowledge of the environment, the agent will begin to learn how to balance the pole on the cart based only on the feedback received from the environment! Having defined how our agent can move, how it takes in new observations, and how it updates its state, we'll see how it gradually learns a policy of actions to optimize balancing the pole as long as possible. To do this, we'll track how the rewards evolve as a function of training -- how should the rewards change as training progresses?"
      ]
    },
    {
      "cell_type": "code",
      "metadata": {
        "id": "XmOzc2rrcn8Q",
        "colab_type": "code",
        "colab": {
          "base_uri": "https://localhost:8080/",
          "height": 541
        },
        "outputId": "5dee8ae3-e3c3-4784-d469-fc14ea6f7ce2"
      },
      "source": [
        "### Cartpole training! ###\n",
        "\n",
        "# Learning rate and optimizer\n",
        "learning_rate = 1e-3\n",
        "optimizer = tf.keras.optimizers.Adam(learning_rate)\n",
        "\n",
        "# instantiate cartpole agent\n",
        "cartpole_model = create_cartpole_model()\n",
        "\n",
        "# to track our progress\n",
        "smoothed_reward = mdl.util.LossHistory(smoothing_factor=0.9)\n",
        "plotter = mdl.util.PeriodicPlotter(sec=2, xlabel='Iterations', ylabel='Rewards')\n",
        "\n",
        "if hasattr(tqdm, '_instances'): tqdm._instances.clear() # clear if it exists\n",
        "for i_episode in range(500):\n",
        "\n",
        "  plotter.plot(smoothed_reward.get())\n",
        "\n",
        "  # Restart the environment\n",
        "  observation = env.reset()\n",
        "  memory.clear()\n",
        "\n",
        "  while True:\n",
        "      # using our observation, choose an action and take it in the environment\n",
        "      action = choose_action(cartpole_model, observation)\n",
        "      next_observation, reward, done, info = env.step(action)\n",
        "      # add to memory\n",
        "      memory.add_to_memory(observation, action, reward)\n",
        "      \n",
        "      # is the episode over? did you crash or do so well that you're done?\n",
        "      if done:\n",
        "          # determine total reward and keep a record of this\n",
        "          total_reward = sum(memory.rewards)\n",
        "          smoothed_reward.append(total_reward)\n",
        "          \n",
        "          # initiate training - remember we don't know anything about how the \n",
        "          #   agent is doing until it has crashed!\n",
        "          train_step(cartpole_model, optimizer, \n",
        "                     observations=np.vstack(memory.observations),\n",
        "                     actions=np.array(memory.actions),\n",
        "                     discounted_rewards = discount_rewards(memory.rewards))\n",
        "          \n",
        "          # reset the memory\n",
        "          memory.clear()\n",
        "          break\n",
        "      # update our observatons\n",
        "      observation = next_observation"
      ],
      "execution_count": 21,
      "outputs": [
        {
          "output_type": "display_data",
          "data": {
            "image/png": "[encoded data removed]",
            "text/plain": [
              "<Figure size 432x288 with 1 Axes>"
            ]
          },
          "metadata": {
            "tags": []
          }
        },
        {
          "output_type": "display_data",
          "data": {
            "image/png": "[encoded data removed]",
            "text/plain": [
              "<Figure size 432x288 with 1 Axes>"
            ]
          },
          "metadata": {
            "tags": [],
            "needs_background": "light"
          }
        }
      ]
    },
    {
      "cell_type": "markdown",
      "metadata": {
        "id": "mkcUtGF1VE-K",
        "colab_type": "text"
      },
      "source": [
        "To get a sense of how our agent did, we can save a video of the trained model working on balancing the pole. Realize that this is a brand new environment that the agent has not seen before!\n",
        "\n",
        "Let's display the saved video to watch how our agent did!\n"
      ]
    },
    {
      "cell_type": "code",
      "metadata": {
        "id": "PAYBkv6Zbk0J",
        "colab_type": "code",
        "colab": {
          "base_uri": "https://localhost:8080/",
          "height": 438
        },
        "outputId": "662707cd-144f-4410-e775-daf53e5dfa23"
      },
      "source": [
        "saved_cartpole = mdl.lab3.save_video_of_model(cartpole_model, \"CartPole-v0\")\n",
        "mdl.lab3.play_video(saved_cartpole)"
      ],
      "execution_count": 23,
      "outputs": [
        {
          "output_type": "stream",
          "text": [
            "Successfully saved 101 frames into CartPole-v0.mp4!\n"
          ],
          "name": "stdout"
        },
        {
          "output_type": "execute_result",
          "data": {
            "text/html": [
              "\n",
              "        <video controls>\n",
              "            <source src=\"data:video/mp4;base64,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\" type=\"video/mp4\" />\n",
              "        </video>"
            ],
            "text/plain": [
              "<IPython.core.display.HTML object>"
            ]
          },
          "metadata": {
            "tags": []
          },
          "execution_count": 23
        }
      ]
    },
    {
      "cell_type": "markdown",
      "metadata": {
        "id": "CSbVNDpaVb3_",
        "colab_type": "text"
      },
      "source": [
        "How does the agent perform? Could you train it for shorter amounts of time and still perform well? Do you think that training longer would help even more? "
      ]
    },
    {
      "cell_type": "markdown",
      "metadata": {
        "id": "Eu6Mqxc720ST",
        "colab_type": "text"
      },
      "source": [
        "#Part 2: Pong\n",
        "\n",
        "In Cartpole, we dealt with an environment that was static -- in other words, it didn't change over time. What happens if our environment is dynamic and unpredictable? Well that's exactly the case in [Pong](https://en.wikipedia.org/wiki/Pong), since part of the environment is the opposing player. We don't know how our opponent will act or react to our actions, so the complexity of our problem increases. It also becomes much more interesting, since we can compete to beat our opponent. RL provides a powerful framework for training AI systems with the ability to handle and interact with dynamic, unpredictable environments. In this part of the lab, we'll use the tools and workflow we explored in Part 1 to build an RL agent capable of playing the game of Pong.\n"
      ]
    },
    {
      "cell_type": "markdown",
      "metadata": {
        "id": "srZ4YE29isuA",
        "colab_type": "text"
      },
      "source": [
        "## 3.6 Define and inspect the Pong environment\n",
        "\n",
        "As with Cartpole, we'll instantiate the Pong environment in the OpenAI gym, using a seed of 1."
      ]
    },
    {
      "cell_type": "code",
      "metadata": {
        "id": "lbYHLr66i15n",
        "colab_type": "code",
        "colab": {}
      },
      "source": [
        "env = gym.make(\"Pong-v0\", frameskip=5)\n",
        "env.seed(1); # for reproducibility"
      ],
      "execution_count": 0,
      "outputs": []
    },
    {
      "cell_type": "markdown",
      "metadata": {
        "id": "52uZ2Xhyi-MW",
        "colab_type": "text"
      },
      "source": [
        "Let's next consider the observation space for the Pong environment. Instead of four physical descriptors of the cart-pole setup, in the case of Pong our observations are the individual video frames (i.e., images) that depict the state of the board. Thus, the observations are 210x160 RGB images (arrays of shape (210,160,3)).\n",
        "\n",
        "We can again confirm the size of the observation space by query:"
      ]
    },
    {
      "cell_type": "code",
      "metadata": {
        "id": "0yX4GWvxjnHS",
        "colab_type": "code",
        "colab": {
          "base_uri": "https://localhost:8080/",
          "height": 34
        },
        "outputId": "9e830a35-9a0d-4b77-fa4d-4ab4c6509fa8"
      },
      "source": [
        "print(\"Environment has observation space =\", env.observation_space)"
      ],
      "execution_count": 25,
      "outputs": [
        {
          "output_type": "stream",
          "text": [
            "Environment has observation space = Box(210, 160, 3)\n"
          ],
          "name": "stdout"
        }
      ]
    },
    {
      "cell_type": "markdown",
      "metadata": {
        "id": "uuEC2TdSjx9D",
        "colab_type": "text"
      },
      "source": [
        "In Pong, at every time step, the agent (which controls the paddle) has six actions to choose from: no-op (no operation), move right, move left, fire, fire right, and fire left. Let's confirm the size of the action space by querying the environment:"
      ]
    },
    {
      "cell_type": "code",
      "metadata": {
        "id": "Iuy9oPc1kag3",
        "colab_type": "code",
        "colab": {
          "base_uri": "https://localhost:8080/",
          "height": 34
        },
        "outputId": "2eae4a17-e984-42e4-eb39-3f8b6c063935"
      },
      "source": [
        "n_actions = env.action_space.n\n",
        "print(\"Number of possible actions that the agent can choose from =\", n_actions)"
      ],
      "execution_count": 26,
      "outputs": [
        {
          "output_type": "stream",
          "text": [
            "Number of possible actions that the agent can choose from = 6\n"
          ],
          "name": "stdout"
        }
      ]
    },
    {
      "cell_type": "markdown",
      "metadata": {
        "id": "9-fghDRigUE5",
        "colab_type": "text"
      },
      "source": [
        "## 3.7 Define the Pong agent\n",
        "\n",
        "As before, we'll use a neural network to define our agent. What network architecture do you think would be especially well suited to this game? Since our observations are now in the form of images, we'll add convolutional layers to the network to increase the learning capacity of our network."
      ]
    },
    {
      "cell_type": "code",
      "metadata": {
        "id": "IJiqbFYpgYRH",
        "colab_type": "code",
        "colab": {}
      },
      "source": [
        "### Define the Pong agent ###\n",
        "\n",
        "# Functionally define layers for convenience\n",
        "# All convolutional layers will have ReLu activation\n",
        "Conv2D = functools.partial(tf.keras.layers.Conv2D, padding='same', activation='relu')\n",
        "Flatten = tf.keras.layers.Flatten\n",
        "Dense = tf.keras.layers.Dense\n",
        "\n",
        "# Defines a CNN for the Pong agent\n",
        "def create_pong_model():\n",
        "  model = tf.keras.models.Sequential([\n",
        "    # Convolutional layers\n",
        "    # First, 16 7x7 filters with 4x4 stride\n",
        "    Conv2D(filters=16, kernel_size=7, strides=4),\n",
        "\n",
        "    # TODO: define convolutional layers with 32 5x5 filters and 2x2 stride\n",
        "    Conv2D(filters=32, kernel_size=5, strides=2),\n",
        "\n",
        "    # TODO: define convolutional layers with 48 3x3 filters and 2x2 stride\n",
        "    Conv2D(filters=48, kernel_size=3, strides=2),\n",
        "\n",
        "    Flatten(),\n",
        "    \n",
        "    # Fully connected layer and output\n",
        "    Dense(units=64, activation='relu'),\n",
        "    # TODO: define the output dimension of the last Dense layer. \n",
        "    # Pay attention to the space the agent needs to act in\n",
        "    Dense(units=n_actions, activation=None)\n",
        "  \n",
        "  ])\n",
        "  return model\n",
        "\n",
        "pong_model = create_pong_model()"
      ],
      "execution_count": 0,
      "outputs": []
    },
    {
      "cell_type": "markdown",
      "metadata": {
        "id": "yaeZ067olFiJ",
        "colab_type": "text"
      },
      "source": [
        "Since we've already defined the action function, `choose_action(model, observation)`, we don't need to define it again. Instead, we'll be able to reuse it later on by passing in our new model we've just created, `pong_model`. This is awesome because our action function provides a modular and generalizable method for all sorts of RL agents!"
      ]
    },
    {
      "cell_type": "markdown",
      "metadata": {
        "id": "l0RvqOVkmc2r",
        "colab_type": "text"
      },
      "source": [
        "## 3.8 Pong-specific functions\n",
        "\n",
        "In Part 1 (Cartpole), we implemented some key functions and classes to build and train our RL agent -- `choose_action(model, observation)` and the `Memory` class, for example. However, in getting ready to apply these to a new game like Pong, we might need to make some slight modifications. \n",
        "\n",
        "Namely, we need to think about what happens when a game ends. In Pong, we know a game has ended if the reward is +1 (we won!) or -1 (we lost unfortunately). Otherwise, we expect the reward at a timestep to be zero -- the players (or agents) are just playing eachother. So, after a game ends, we will need to reset the reward to zero when a game ends. This will result in a modified reward function."
      ]
    },
    {
      "cell_type": "code",
      "metadata": {
        "id": "iEZG2o50luLu",
        "colab_type": "code",
        "colab": {}
      },
      "source": [
        "### Pong reward function ###\n",
        "\n",
        "# Compute normalized, discounted rewards for Pong (i.e., return)\n",
        "# Arguments:\n",
        "#   rewards: reward at timesteps in episode\n",
        "#   gamma: discounting factor. Note increase to 0.99 -- rate of depreciation will be slower.\n",
        "# Returns:\n",
        "#   normalized discounted reward\n",
        "def discount_rewards(rewards, gamma=0.99): \n",
        "  discounted_rewards = np.zeros_like(rewards)\n",
        "  R = 0\n",
        "  for t in reversed(range(0, len(rewards))):\n",
        "      # NEW: Reset the sum if the reward is not 0 (the game has ended!)\n",
        "      if rewards[t] != 0:\n",
        "        R = 0\n",
        "      # update the total discounted reward as before\n",
        "      R = R * gamma + rewards[t]\n",
        "      discounted_rewards[t] = R\n",
        "      \n",
        "  return normalize(discounted_rewards)"
      ],
      "execution_count": 0,
      "outputs": []
    },
    {
      "cell_type": "markdown",
      "metadata": {
        "id": "HopLpb4IoOqA",
        "colab_type": "text"
      },
      "source": [
        "Additionally, we have to consider the nature of the observations in the Pong environment, and how they will be fed into our network. Our observations in this case are images. Before we input an image into our network, we'll do a bit of pre-processing to crop and scale, clean up the background colors to a single color, and set the important game elements to a single color. Let's use this function to visualize what an observation might look like before and after pre-processing."
      ]
    },
    {
      "cell_type": "code",
      "metadata": {
        "id": "no5IIYtFm8pI",
        "colab_type": "code",
        "colab": {
          "base_uri": "https://localhost:8080/",
          "height": 227
        },
        "outputId": "672a317e-a3fc-404a-81f9-9c8551442441"
      },
      "source": [
        "observation = env.reset()\n",
        "for i in range(30):\n",
        "  observation, _,_,_ = env.step(0)\n",
        "observation_pp = mdl.lab3.preprocess_pong(observation)\n",
        "\n",
        "f = plt.figure(figsize=(10,3))\n",
        "ax = f.add_subplot(121)\n",
        "ax2 = f.add_subplot(122)\n",
        "ax.imshow(observation); ax.grid(False);\n",
        "ax2.imshow(np.squeeze(observation_pp)); ax2.grid(False); plt.title('Preprocessed Observation');"
      ],
      "execution_count": 29,
      "outputs": [
        {
          "output_type": "display_data",
          "data": {
            "image/png": "[encoded data removed]",
            "text/plain": [
              "<Figure size 720x216 with 2 Axes>"
            ]
          },
          "metadata": {
            "tags": [],
            "needs_background": "light"
          }
        }
      ]
    },
    {
      "cell_type": "markdown",
      "metadata": {
        "id": "bYwIWC-Cz8F2",
        "colab_type": "text"
      },
      "source": [
        "What do you notice? How might these changes be important for training our RL algorithm?"
      ]
    },
    {
      "cell_type": "markdown",
      "metadata": {
        "id": "mRqcaDQ1pm3x",
        "colab_type": "text"
      },
      "source": [
        "## 3.9 Training Pong\n",
        "\n",
        "We're now all set up to start training our RL algorithm and agent for the game of Pong! We've already defined our loss function with `compute_loss`, which employs policy gradient learning, as well as our backpropagation step with `train_step` which is beautiful! We will use these functions to execute training the Pong agent. Let's walk through the training block.\n",
        "\n",
        "In Pong, rather than feeding our network one image at a time, it can actually improve performance to input the difference between two consecutive observations, which really gives us information about the movement between frames -- how the game is changing. We'll first pre-process the raw observation, `x`, and then we'll compute the difference with the image frame we saw one timestep before. \n",
        "\n",
        "This observation change will be forward propagated through our Pong agent, the CNN network model, which will then predict the next action to take based on this observation. The raw reward will be computed, and the observation, action, and reward will be recorded into memory. This will continue until a training episode, i.e., a game, ends.\n",
        "\n",
        "Then, we will compute the discounted rewards, and use this information to execute a training step. Memory will be cleared, and we will do it all over again!\n",
        "\n",
        "Let's run the code block to train our Pong agent. Note that completing training will take quite a bit of time (estimated at least a couple of hours). We will again visualize the evolution of the total reward as a function of training to get a sense of how the agent is learning."
      ]
    },
    {
      "cell_type": "code",
      "metadata": {
        "id": "xCwyQQrPnkZG",
        "colab_type": "code",
        "colab": {}
      },
      "source": [
        "### Training Pong ###\n",
        "\n",
        "# Hyperparameters\n",
        "learning_rate=1e-4\n",
        "MAX_ITERS = 10000 # increase the maximum number of episodes, since Pong is more complex!\n",
        "\n",
        "# Model and optimizer\n",
        "pong_model = create_pong_model()\n",
        "optimizer = tf.keras.optimizers.Adam(learning_rate)\n",
        "\n",
        "# plotting\n",
        "smoothed_reward = mdl.util.LossHistory(smoothing_factor=0.9)\n",
        "plotter = mdl.util.PeriodicPlotter(sec=5, xlabel='Iterations', ylabel='Rewards')\n",
        "memory = Memory()\n",
        "\n",
        "for i_episode in range(MAX_ITERS):\n",
        "\n",
        "  plotter.plot(smoothed_reward.get())\n",
        "\n",
        "  # Restart the environment\n",
        "  observation = env.reset()\n",
        "  previous_frame = mdl.lab3.preprocess_pong(observation)\n",
        "\n",
        "  while True:\n",
        "      # Pre-process image \n",
        "      current_frame = mdl.lab3.preprocess_pong(observation)\n",
        "      \n",
        "      '''TODO: determine the observation change\n",
        "      Hint: this is the difference between the past two frames'''\n",
        "      obs_change = current_frame - previous_frame\n",
        "      \n",
        "      '''TODO: choose an action for the pong model, using the frame difference, and evaluate'''\n",
        "      action = choose_action(pong_model, obs_change)\n",
        "      # Take the chosen action\n",
        "      next_observation, reward, done, info = env.step(action)\n",
        "\n",
        "      '''TODO: save the observed frame difference, the action that was taken, and the resulting reward!'''\n",
        "      memory.add_to_memory(obs_change, action, reward)\n",
        "      \n",
        "      # is the episode over? did you crash or do so well that you're done?\n",
        "      if done:\n",
        "          # determine total reward and keep a record of this\n",
        "          total_reward = sum(memory.rewards)\n",
        "          smoothed_reward.append( total_reward )\n",
        "\n",
        "          # begin training\n",
        "          train_step(pong_model, \n",
        "                     optimizer, \n",
        "                     observations = np.stack(memory.observations, 0), \n",
        "                     actions = np.array(memory.actions),\n",
        "                     discounted_rewards = discount_rewards(memory.rewards))\n",
        "          \n",
        "          memory.clear()\n",
        "          break\n",
        "\n",
        "      observation = next_observation\n",
        "      previous_frame = current_frame"
      ],
      "execution_count": 0,
      "outputs": []
    },
    {
      "cell_type": "markdown",
      "metadata": {
        "id": "8LiEY5Y_ts-Z",
        "colab_type": "text"
      },
      "source": [
        "Finally we can put our trained agent to the test! It will play in a newly instantiated Pong environment against the \"computer\", a base AI system for Pong. Your agent plays as the green paddle. Let's watch the match instant replay!"
      ]
    },
    {
      "cell_type": "code",
      "metadata": {
        "id": "TvHXbkL0tR6M",
        "colab_type": "code",
        "colab": {}
      },
      "source": [
        "saved_pong = mdl.lab3.save_video_of_model(\n",
        "    pong_model, \"Pong-v0\", obs_diff=True, \n",
        "    pp_fn=mdl.lab3.preprocess_pong)\n",
        "mdl.lab3.play_video(saved_pong)"
      ],
      "execution_count": 0,
      "outputs": []
    },
    {
      "cell_type": "markdown",
      "metadata": {
        "id": "TIlwIgBP3Js6",
        "colab_type": "text"
      },
      "source": [
        "## 3.10 Conclusion\n",
        "\n",
        "That's it! Congratulations on training two RL agents and putting them to the test! We encourage you to consider the following:\n",
        "\n",
        "*   How does the agent perform?\n",
        "*   Could you train it for shorter amounts of time  and still perform well?\n",
        "*   Do you think that training longer would help even more? \n",
        "* How does the complexity of Pong relative to Cartpole alter the rate at which the agent learns and its performance? \n",
        "* What are some things you could change about the agent or the learning process to potentially improve performance?\n",
        "\n",
        "If you want to go further, try to optimize your model to achieve the best performance! **[Email us](mailto:introtodeeplearning-staff@mit.edu) a copy of your notebook with the Pong training executed AND a saved video of your Pong agent competing! We'll give out prizes to the best performers!**"
      ]
    }
  ]
}